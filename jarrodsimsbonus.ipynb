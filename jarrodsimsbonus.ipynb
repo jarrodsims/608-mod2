{
 "cells": [
  {
   "cell_type": "code",
   "execution_count": 13,
   "id": "d0ed49b7-62f1-4e56-9354-cde02a199de7",
   "metadata": {},
   "outputs": [
    {
     "name": "stdout",
     "output_type": "stream",
     "text": [
      "Analysis of grade point averages of 188 students in the engineering program from 2020-2022 at Raytown South High School.\n",
      "Measures of central tendency of Engineering students grade point averages:\n",
      "\n",
      "Average GPA of engineering students equals 2.72\n",
      "Median GPA of engineering students equals 2.87\n",
      "Most common GPA of engineering students equals 4.00\n"
     ]
    }
   ],
   "source": [
    "# jarrodsimsbonus.ipynb\n",
    "\"\"\"Analysis of GPA of students in the engineering program at Raytown South High School from 2020-2022\"\"\"\n",
    "\n",
    "import statistics\n",
    "\n",
    "gpa = [4.08, 4.00, 2.64, 2.88, 2.94, 2.19, 1.44, 2.64, 3.72, 1.63, 2.24, 4.00, 2.09, 1.61, 1.77, 2.27, 2.19, 1.50, 3.86, 3.98, 1.44, 1.50, 3.55, 3.34, 3.68, 2.53, 3.18, 3.08, 2.17, 2.38, 1.31, 4.02, 1.81, 2.50, 4.00, 4.00, 4.00, 1.61, 2.41, 3.56, 2.57, 3.15, 3.94, 3.64, 4.15, 2.56, 1.89, 2.22, 4.00, 2.67, 2.13, 3.50, 3.61, 3.88, 0.81, 0.18, 2.85, 3.88, 2.17, 3.64, 0.29, 3.00, 3.50, 4.15, 4.00, 3.39, 0.86, 1.93, 2.15, 2.33, 3.10, 3.75, 4.00, 1.50, 2.59, 3.39, 3.67, 2.90, 3.25, 2.86, 2.50, 3.00, 3.75, 4.00, 3.89, 4.00, 3.55, 3.05, 2.76, 2.95, 3.23, 2.71, 1.14, 4.00, 4.06, 3.44, 3.08, 2.86, 3.79, 4.00, 3.50, 3.45, 1.97, 0.50, 2.89, 3.00, 3.60, 1.33, 2.19, 2.95, 2.91, 2.13, 4.00, 2.43, 1.13, 3.34, 1.07, 2.08, 1.93, 4.21, 2.19, 2.00, 3.33, 3.89, 4.19, 3.00, 3.40, 2.15, 2.52, 1.69, 1.54, 2.33, 2.79, 1.85, 3.00, 2.76, 2.52, 3.29, 3.50, 3.23, 3.00, 1.16, 2.57, 1.25, 1.25, 2.36, 3.21, 3.56, 3.06, 0.00, 0.69, 2.10, 3.07, 4.00, 3.83, 3.70, 1.29, 3.23, 2.31, 1.63, 1.71, 2.79, 4.15, 1.94, 3.00, 3.88, 2.68, 3.10, 1.56, 2.02, 0.57, 1.82, 2.93, 1.82, 2.19, 4.00, 1.62, 3.00, 2.51, 0.64, 2.03, 2.97, 3.13, 3.41, 2.59, 3.17, 2.10, 2.25]\n",
    "\n",
    "count = len(gpa)\n",
    "total = sum(gpa)\n",
    "average = statistics.mean(gpa)\n",
    "median = statistics.median(gpa)\n",
    "mode = statistics.mode(gpa)\n",
    "\n",
    "print(f'Analysis of grade point averages of {count} students in the engineering program from 2020-2022 at Raytown South High School.\\nMeasures of central tendency of Engineering students grade point averages:\\n')\n",
    "\n",
    "print(f'Average GPA of engineering students equals {average:.2f}')\n",
    "print(f'Median GPA of engineering students equals {median:.2f}')\n",
    "print(f'Most common GPA of engineering students equals {mode:.2f}')"
   ]
  }
 ],
 "metadata": {
  "kernelspec": {
   "display_name": "Python 3 (ipykernel)",
   "language": "python",
   "name": "python3"
  },
  "language_info": {
   "codemirror_mode": {
    "name": "ipython",
    "version": 3
   },
   "file_extension": ".py",
   "mimetype": "text/x-python",
   "name": "python",
   "nbconvert_exporter": "python",
   "pygments_lexer": "ipython3",
   "version": "3.9.12"
  }
 },
 "nbformat": 4,
 "nbformat_minor": 5
}
