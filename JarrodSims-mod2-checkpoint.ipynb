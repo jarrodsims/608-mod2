{
 "cells": [
  {
   "cell_type": "code",
   "execution_count": 1,
   "id": "a17fac38-9184-4f25-9066-4bf6cd9aaa37",
   "metadata": {},
   "outputs": [
    {
     "name": "stdout",
     "output_type": "stream",
     "text": [
      "passed\n"
     ]
    }
   ],
   "source": [
    "grade = 85 \n",
    "\n",
    "if grade >= 60:\n",
    "    print('passed')"
   ]
  },
  {
   "cell_type": "code",
   "execution_count": 2,
   "id": "3995b2ae-1788-444b-aabe-38c27fd9d438",
   "metadata": {},
   "outputs": [
    {
     "name": "stdout",
     "output_type": "stream",
     "text": [
      "Nonzeri vakyes are true, so this will print\n"
     ]
    }
   ],
   "source": [
    "if 1:\n",
    "    print('Nonzeri vakyes are true, so this will print')"
   ]
  },
  {
   "cell_type": "code",
   "execution_count": 3,
   "id": "fde1b8e1-f5f2-4901-9af8-2d73c313e1d8",
   "metadata": {},
   "outputs": [],
   "source": [
    "if 0:\n",
    "    print('zero value is false, so this will not print')"
   ]
  },
  {
   "cell_type": "code",
   "execution_count": 4,
   "id": "21afaa08-1222-40d5-9cdd-9e72373ca9d5",
   "metadata": {},
   "outputs": [],
   "source": [
    "if \"\"\"\"\"\":\n",
    "    print('zero value is false, so this will not print')"
   ]
  },
  {
   "cell_type": "code",
   "execution_count": 7,
   "id": "6216c8be-294a-4755-a2c9-a52a2ff75ebf",
   "metadata": {},
   "outputs": [],
   "source": [
    "grade = 55 \n",
    "\n",
    "if grade >= 60:\n",
    "    print('passed')"
   ]
  },
  {
   "cell_type": "code",
   "execution_count": 8,
   "id": "1b01ac2b-8ce9-428f-ada9-aedec7512f7e",
   "metadata": {},
   "outputs": [
    {
     "name": "stdout",
     "output_type": "stream",
     "text": [
      "passed\n"
     ]
    }
   ],
   "source": [
    "grade = 85\n",
    "\n",
    "if grade >= 60:\n",
    "    print('passed')\n",
    "else:\n",
    "    print('failed')"
   ]
  },
  {
   "cell_type": "code",
   "execution_count": 9,
   "id": "2db4562e-d736-49fe-b958-e32127bc079e",
   "metadata": {},
   "outputs": [
    {
     "name": "stdout",
     "output_type": "stream",
     "text": [
      "failed\n"
     ]
    }
   ],
   "source": [
    "grade = 57\n",
    "\n",
    "if grade >= 60:\n",
    "    print('passed')\n",
    "else:\n",
    "    print('failed')"
   ]
  },
  {
   "cell_type": "code",
   "execution_count": 10,
   "id": "7277ace4-54bf-4aa2-9d11-f9e85af68748",
   "metadata": {},
   "outputs": [
    {
     "name": "stdout",
     "output_type": "stream",
     "text": [
      "passed\n"
     ]
    }
   ],
   "source": [
    "grade = 87\n",
    "if grade >= 60:\n",
    "    result = 'passed'\n",
    "else:\n",
    "    result = 'failed'\n",
    "print(result)"
   ]
  },
  {
   "cell_type": "code",
   "execution_count": 11,
   "id": "dae7b807-516c-4197-b4da-73dc15d02e8f",
   "metadata": {},
   "outputs": [
    {
     "data": {
      "text/plain": [
       "'passed'"
      ]
     },
     "execution_count": 11,
     "metadata": {},
     "output_type": "execute_result"
    }
   ],
   "source": [
    "result = ('passed' if grade >= 60 else 'failed')\n",
    "result"
   ]
  },
  {
   "cell_type": "code",
   "execution_count": 12,
   "id": "dd633f46-c4b3-4f1d-9476-b4905776dfc7",
   "metadata": {},
   "outputs": [
    {
     "name": "stdout",
     "output_type": "stream",
     "text": [
      "failed\n",
      "you must take the course again\n"
     ]
    }
   ],
   "source": [
    "grade = 49\n",
    "\n",
    "if grade >= 60:\n",
    "    print('passed')\n",
    "else:\n",
    "    print('failed')\n",
    "    print('you must take the course again')"
   ]
  },
  {
   "cell_type": "code",
   "execution_count": 13,
   "id": "87f79e89-5226-4398-98b7-bc7c29e33e09",
   "metadata": {},
   "outputs": [
    {
     "name": "stdout",
     "output_type": "stream",
     "text": [
      "C\n"
     ]
    }
   ],
   "source": [
    "grade = 77\n",
    "\n",
    "if grade >= 90:\n",
    "    print('A')\n",
    "elif grade >= 80:\n",
    "    print('B')\n",
    "elif grade >= 70:\n",
    "    print('C')\n",
    "elif grade >= 60:\n",
    "    print('D')\n",
    "else:\n",
    "    print('F')"
   ]
  },
  {
   "cell_type": "code",
   "execution_count": 14,
   "id": "389fd503-54c4-4b32-adc0-320af888006d",
   "metadata": {},
   "outputs": [
    {
     "data": {
      "text/plain": [
       "81"
      ]
     },
     "execution_count": 14,
     "metadata": {},
     "output_type": "execute_result"
    }
   ],
   "source": [
    "product = 3\n",
    "\n",
    "while product <= 50:\n",
    "    product = product * 3\n",
    "\n",
    "product"
   ]
  },
  {
   "cell_type": "code",
   "execution_count": 15,
   "id": "eea14a6e-a865-4ab6-9f67-784eda6e517f",
   "metadata": {},
   "outputs": [
    {
     "data": {
      "text/plain": [
       "2401"
      ]
     },
     "execution_count": 15,
     "metadata": {},
     "output_type": "execute_result"
    }
   ],
   "source": [
    "product = 7\n",
    "\n",
    "while product <= 1000:\n",
    "    product = product * 7\n",
    "    \n",
    "product"
   ]
  },
  {
   "cell_type": "code",
   "execution_count": 16,
   "id": "56f925db-75da-4e56-bb70-b88f42c0d7eb",
   "metadata": {},
   "outputs": [
    {
     "name": "stdout",
     "output_type": "stream",
     "text": [
      "P r o g r a m m i n g "
     ]
    }
   ],
   "source": [
    "for character in 'Programming':\n",
    "    print(character, end=' ')"
   ]
  },
  {
   "cell_type": "code",
   "execution_count": 20,
   "id": "cdbe3d9a-6573-44a8-bbf8-a45a4a638811",
   "metadata": {},
   "outputs": [
    {
     "name": "stdout",
     "output_type": "stream",
     "text": [
      "10,20,30\n"
     ]
    }
   ],
   "source": [
    "print(10, 20, 30, sep=',')"
   ]
  },
  {
   "cell_type": "code",
   "execution_count": 21,
   "id": "d3f73ddd-7fd0-41bc-b195-caa6ba453be4",
   "metadata": {},
   "outputs": [
    {
     "data": {
      "text/plain": [
       "25"
      ]
     },
     "execution_count": 21,
     "metadata": {},
     "output_type": "execute_result"
    }
   ],
   "source": [
    "total = 0\n",
    "\n",
    "for number in [2, -3, 0, 17, 9]:\n",
    "    total = total + number \n",
    "\n",
    "total"
   ]
  },
  {
   "cell_type": "code",
   "execution_count": 26,
   "id": "55018fd1-b812-4405-ac98-5b88cf4a2965",
   "metadata": {},
   "outputs": [
    {
     "name": "stdout",
     "output_type": "stream",
     "text": [
      "0 1 2 3 4 5 6 7 8 9 "
     ]
    }
   ],
   "source": [
    "for counter in range(10):\n",
    "    print(counter, end=' ')"
   ]
  },
  {
   "cell_type": "code",
   "execution_count": 28,
   "id": "c2a9538e-6e7e-43a3-92d4-ebd5e3cebc77",
   "metadata": {},
   "outputs": [
    {
     "data": {
      "text/plain": [
       "500000500000"
      ]
     },
     "execution_count": 28,
     "metadata": {},
     "output_type": "execute_result"
    }
   ],
   "source": [
    "total = 0 \n",
    "\n",
    "for number in range(1000001):\n",
    "    total = total + number\n",
    "    \n",
    "total"
   ]
  },
  {
   "cell_type": "code",
   "execution_count": 30,
   "id": "47df84b5-cd27-4d3d-89f5-f5a7880d95db",
   "metadata": {},
   "outputs": [
    {
     "data": {
      "text/plain": [
       "15"
      ]
     },
     "execution_count": 30,
     "metadata": {},
     "output_type": "execute_result"
    }
   ],
   "source": [
    "total = 0\n",
    "\n",
    "for number in [1, 2, 3, 4, 5]:\n",
    "    total += number\n",
    "\n",
    "total"
   ]
  },
  {
   "cell_type": "code",
   "execution_count": 31,
   "id": "ec7b8cd8-a341-4bd9-8b1c-de366a872d72",
   "metadata": {},
   "outputs": [
    {
     "data": {
      "text/plain": [
       "144"
      ]
     },
     "execution_count": 31,
     "metadata": {},
     "output_type": "execute_result"
    }
   ],
   "source": [
    "x = 12\n",
    "\n",
    "x **= 2\n",
    "x"
   ]
  },
  {
   "cell_type": "code",
   "execution_count": 33,
   "id": "94fb218f-f9ef-4fa1-b646-b3b302b4a6d5",
   "metadata": {},
   "outputs": [
    {
     "name": "stdout",
     "output_type": "stream",
     "text": [
      "Class average is 81.7\n"
     ]
    }
   ],
   "source": [
    "total = 0 # sum of grades\n",
    "grade_counter = 0 \n",
    "grades = [98, 76, 71, 87, 83, 90, 57, 79, 82, 94] # list of 10 grades\n",
    "\n",
    "for grade in grades:\n",
    "    total += grade # add current grdae to the running total\n",
    "    grade_counter += 1 # indicates that one more grade was processed\n",
    "    \n",
    "average = total / grade_counter\n",
    "print(f'Class average is {average}')"
   ]
  },
  {
   "cell_type": "code",
   "execution_count": 34,
   "id": "73bf722d-ec27-4aae-a24e-1161bebb4d0e",
   "metadata": {},
   "outputs": [
    {
     "name": "stdout",
     "output_type": "stream",
     "text": [
      "7 times 5 is 35\n"
     ]
    }
   ],
   "source": [
    "number1 = 7\n",
    "number2 = 5\n",
    "\n",
    "print(f'{number1} times {number2} is {number1 * number2}')"
   ]
  },
  {
   "cell_type": "code",
   "execution_count": 35,
   "id": "f378a8c4-88b8-46a2-afb8-3f329bf4e451",
   "metadata": {},
   "outputs": [
    {
     "name": "stdin",
     "output_type": "stream",
     "text": [
      "Enter grade, -1 to end:  97\n",
      "Enter grade, -1 to end:  82\n",
      "Enter grade, -1 to end:  64\n",
      "Enter grade, -1 to end:  91\n",
      "Enter grade, -1 to end:  94\n",
      "Enter grade, -1 to end:  97\n",
      "Enter grade, -1 to end:  66\n",
      "Enter grade, -1 to end:  -1\n"
     ]
    },
    {
     "name": "stdout",
     "output_type": "stream",
     "text": [
      "Class grade average is 84.43\n"
     ]
    }
   ],
   "source": [
    "total = 0 # sum of grades\n",
    "grade_counter = 0 # number of grades entered\n",
    "\n",
    "grade = int(input('Enter grade, -1 to end: ')) # get one grade\n",
    "\n",
    "while grade != -1: \n",
    "    total += grade\n",
    "    grade_counter += 1\n",
    "    grade = int(input('Enter grade, -1 to end: '))\n",
    "    \n",
    "if grade_counter != 0:\n",
    "    average = total / grade_counter\n",
    "    print(f'Class grade average is {average:.2f}')\n",
    "else:\n",
    "    print('No grades entered')"
   ]
  },
  {
   "cell_type": "code",
   "execution_count": 40,
   "id": "009d2040-2e78-41b3-981a-f7e7b5ff1b8d",
   "metadata": {},
   "outputs": [
    {
     "name": "stdin",
     "output_type": "stream",
     "text": [
      "Enter value 7\n"
     ]
    },
    {
     "name": "stdout",
     "output_type": "stream",
     "text": [
      "7 is odd\n"
     ]
    },
    {
     "name": "stdin",
     "output_type": "stream",
     "text": [
      "Enter value 10\n"
     ]
    },
    {
     "name": "stdout",
     "output_type": "stream",
     "text": [
      "10 is even\n"
     ]
    }
   ],
   "source": [
    "for count in range(2):\n",
    "    value = int(input('Enter value'))\n",
    "    if value % 2 == 0:\n",
    "        print(f'{value} is even')\n",
    "    else:\n",
    "        print(f'{value} is odd')"
   ]
  },
  {
   "cell_type": "code",
   "execution_count": null,
   "id": "874b2ce9-21a9-4f66-9712-0785a6321444",
   "metadata": {},
   "outputs": [
    {
     "name": "stdout",
     "output_type": "stream",
     "text": [
      "5 6 7 8 9 "
     ]
    }
   ],
   "source": [
    "for number in range(5, 10):\n",
    "    print(number, end=' ')"
   ]
  },
  {
   "cell_type": "code",
   "execution_count": 45,
   "id": "528c0d41-6149-4bb3-b5a8-a981f6bd3922",
   "metadata": {},
   "outputs": [
    {
     "name": "stdout",
     "output_type": "stream",
     "text": [
      "0 2 4 6 8 "
     ]
    }
   ],
   "source": [
    "for number in range(0, 10, 2):\n",
    "    print(number, end=' ')"
   ]
  },
  {
   "cell_type": "code",
   "execution_count": 47,
   "id": "403c2548-c2e8-4639-a09f-e269d1ffe875",
   "metadata": {},
   "outputs": [
    {
     "name": "stdout",
     "output_type": "stream",
     "text": [
      "10 8 6 4 2 "
     ]
    }
   ],
   "source": [
    "for number in range(10, 0, -2):\n",
    "    print(number, end=' ')"
   ]
  },
  {
   "cell_type": "code",
   "execution_count": 50,
   "id": "707eed0d-4410-4a2f-aaa7-3d7a5b3434cf",
   "metadata": {},
   "outputs": [
    {
     "name": "stdout",
     "output_type": "stream",
     "text": [
      "99 88 77 66 55 44 33 22 11 0 "
     ]
    }
   ],
   "source": [
    "for number in range(99, -1, -11):\n",
    "    print(number, end=' ')"
   ]
  },
  {
   "cell_type": "code",
   "execution_count": 53,
   "id": "8fbe3bdf-7323-4df2-88bb-f9cf32999f71",
   "metadata": {},
   "outputs": [
    {
     "data": {
      "text/plain": [
       "2550"
      ]
     },
     "execution_count": 53,
     "metadata": {},
     "output_type": "execute_result"
    }
   ],
   "source": [
    "total = 0\n",
    "\n",
    "for number in range(2, 101, 2):\n",
    "    total += number\n",
    "\n",
    "total"
   ]
  },
  {
   "cell_type": "code",
   "execution_count": 57,
   "id": "9144a648-6dd4-4aca-8331-f2c556776a3a",
   "metadata": {},
   "outputs": [
    {
     "name": "stdout",
     "output_type": "stream",
     "text": [
      " 1   1020.00\n",
      " 2   1040.40\n",
      " 3   1061.21\n",
      " 4   1082.43\n",
      " 5   1104.08\n",
      " 6   1126.16\n",
      " 7   1148.69\n",
      " 8   1171.66\n",
      " 9   1195.09\n",
      "10   1218.99\n"
     ]
    }
   ],
   "source": [
    "principal = 1000\n",
    "rate = .02\n",
    "\n",
    "\n",
    "for year in range (1, 11):\n",
    "    amount = principal * (1 + rate) ** year\n",
    "    print(f'{year:>2}{amount:>10.2f}')"
   ]
  },
  {
   "cell_type": "code",
   "execution_count": 61,
   "id": "7662a069-cb8c-4134-9d46-29b9f0ada999",
   "metadata": {},
   "outputs": [
    {
     "name": "stdout",
     "output_type": "stream",
     "text": [
      "0 1 2 3 4 5 6 7 8 9 "
     ]
    }
   ],
   "source": [
    "for number in range(100):\n",
    "    if number == 10:\n",
    "        break\n",
    "    print(number, end=' ')"
   ]
  },
  {
   "cell_type": "code",
   "execution_count": 64,
   "id": "056197ab-4698-42d2-b642-553a6719e7a8",
   "metadata": {},
   "outputs": [
    {
     "name": "stdout",
     "output_type": "stream",
     "text": [
      "senior female\n"
     ]
    }
   ],
   "source": [
    "gender = 'Female'\n",
    "age = 70\n",
    "\n",
    "if gender == 'Female' and age >= 65:\n",
    "    print('senior female')"
   ]
  },
  {
   "cell_type": "code",
   "execution_count": 65,
   "id": "97d1e95d-6910-42ba-a27c-8e23caf19120",
   "metadata": {},
   "outputs": [
    {
     "name": "stdout",
     "output_type": "stream",
     "text": [
      "Student gets an A\n"
     ]
    }
   ],
   "source": [
    "semester_average = 83\n",
    "\n",
    "final_exam = 95\n",
    "\n",
    "if semester_average >= 90 or final_exam >= 90:\n",
    "    print('Student gets an A')"
   ]
  },
  {
   "cell_type": "code",
   "execution_count": 66,
   "id": "4febc600-f15f-444f-8c16-4e9be5acef0a",
   "metadata": {},
   "outputs": [
    {
     "name": "stdout",
     "output_type": "stream",
     "text": [
      "next grade is 87\n"
     ]
    }
   ],
   "source": [
    "grade = 87\n",
    "\n",
    "if not grade == -1:\n",
    "    print('next grade is', grade)"
   ]
  },
  {
   "cell_type": "code",
   "execution_count": 67,
   "id": "af8cbfd4-72e6-4dce-8e78-9d39c2604268",
   "metadata": {},
   "outputs": [
    {
     "name": "stdout",
     "output_type": "stream",
     "text": [
      "next grade is 87\n"
     ]
    }
   ],
   "source": [
    "if grade != -1:\n",
    "    print('next grade is', grade)"
   ]
  },
  {
   "cell_type": "code",
   "execution_count": 71,
   "id": "1b4da0a3-c32a-414a-9db1-94c1de178044",
   "metadata": {},
   "outputs": [],
   "source": [
    "i = 1\n",
    "j = 2\n",
    "k = 3\n",
    "m = 2"
   ]
  },
  {
   "cell_type": "code",
   "execution_count": 72,
   "id": "c7b0c9f6-6bae-4829-b20c-7330be4483cd",
   "metadata": {},
   "outputs": [
    {
     "data": {
      "text/plain": [
       "True"
      ]
     },
     "execution_count": 72,
     "metadata": {},
     "output_type": "execute_result"
    }
   ],
   "source": [
    "(i >= 1) and (j < 4)"
   ]
  },
  {
   "cell_type": "code",
   "execution_count": 73,
   "id": "35809b12-e3fc-484c-a8eb-0acef58b096e",
   "metadata": {},
   "outputs": [
    {
     "data": {
      "text/plain": [
       "False"
      ]
     },
     "execution_count": 73,
     "metadata": {},
     "output_type": "execute_result"
    }
   ],
   "source": [
    "(m <= 99) and (k < m)"
   ]
  },
  {
   "cell_type": "code",
   "execution_count": 74,
   "id": "198c2dfb-d8b0-4e30-b592-526a080d162c",
   "metadata": {},
   "outputs": [
    {
     "data": {
      "text/plain": [
       "True"
      ]
     },
     "execution_count": 74,
     "metadata": {},
     "output_type": "execute_result"
    }
   ],
   "source": [
    "(j >= i) or (k == m)"
   ]
  },
  {
   "cell_type": "code",
   "execution_count": 75,
   "id": "89026ed8-9d4e-40dc-8d9c-3f68b989dfda",
   "metadata": {},
   "outputs": [
    {
     "data": {
      "text/plain": [
       "False"
      ]
     },
     "execution_count": 75,
     "metadata": {},
     "output_type": "execute_result"
    }
   ],
   "source": [
    "(k + m < j) or (3 - j >= k)"
   ]
  },
  {
   "cell_type": "code",
   "execution_count": 76,
   "id": "6b154fe6-24d3-4ff5-8eb0-1073030c011f",
   "metadata": {},
   "outputs": [
    {
     "data": {
      "text/plain": [
       "False"
      ]
     },
     "execution_count": 76,
     "metadata": {},
     "output_type": "execute_result"
    }
   ],
   "source": [
    "not (k > m)"
   ]
  },
  {
   "cell_type": "code",
   "execution_count": 77,
   "id": "11c334a4-1742-4fdf-bc53-3aa21c6e94aa",
   "metadata": {},
   "outputs": [
    {
     "data": {
      "text/plain": [
       "79.4"
      ]
     },
     "execution_count": 77,
     "metadata": {},
     "output_type": "execute_result"
    }
   ],
   "source": [
    "grades = [85, 93, 45, 89, 85]\n",
    "sum(grades) / len(grades)"
   ]
  },
  {
   "cell_type": "code",
   "execution_count": 78,
   "id": "6ec64257-da20-4af9-b5bc-fceed1bfae47",
   "metadata": {},
   "outputs": [],
   "source": [
    "import statistics"
   ]
  },
  {
   "cell_type": "code",
   "execution_count": 79,
   "id": "a2fb99a7-21ba-4121-8dcc-c71472c15b00",
   "metadata": {},
   "outputs": [
    {
     "data": {
      "text/plain": [
       "79.4"
      ]
     },
     "execution_count": 79,
     "metadata": {},
     "output_type": "execute_result"
    }
   ],
   "source": [
    "statistics.mean(grades)"
   ]
  },
  {
   "cell_type": "code",
   "execution_count": 80,
   "id": "1035f0f5-837e-4c03-9c01-bc1bfc4229ba",
   "metadata": {},
   "outputs": [
    {
     "data": {
      "text/plain": [
       "85"
      ]
     },
     "execution_count": 80,
     "metadata": {},
     "output_type": "execute_result"
    }
   ],
   "source": [
    "statistics.median(grades)"
   ]
  },
  {
   "cell_type": "code",
   "execution_count": 81,
   "id": "ed0b85d5-14eb-43bd-b500-ca8089b636ba",
   "metadata": {},
   "outputs": [
    {
     "data": {
      "text/plain": [
       "85"
      ]
     },
     "execution_count": 81,
     "metadata": {},
     "output_type": "execute_result"
    }
   ],
   "source": [
    "statistics.mode(grades)"
   ]
  },
  {
   "cell_type": "code",
   "execution_count": 82,
   "id": "ddb3e498-1143-4d40-ba57-0c6dfe9ebac3",
   "metadata": {},
   "outputs": [
    {
     "data": {
      "text/plain": [
       "[45, 85, 85, 89, 93]"
      ]
     },
     "execution_count": 82,
     "metadata": {},
     "output_type": "execute_result"
    }
   ],
   "source": [
    "sorted(grades)"
   ]
  },
  {
   "cell_type": "code",
   "execution_count": 83,
   "id": "161f58eb-b705-4b3a-acd7-c8ff2668da9e",
   "metadata": {},
   "outputs": [],
   "source": [
    "values = [47, 95, 88, 73, 88, 84]"
   ]
  },
  {
   "cell_type": "code",
   "execution_count": 84,
   "id": "4612249e-c72d-4d18-a1d9-8c78b63a9282",
   "metadata": {},
   "outputs": [
    {
     "data": {
      "text/plain": [
       "79.16666666666667"
      ]
     },
     "execution_count": 84,
     "metadata": {},
     "output_type": "execute_result"
    }
   ],
   "source": [
    "statistics.mean(values)"
   ]
  },
  {
   "cell_type": "code",
   "execution_count": 85,
   "id": "a80826ce-5208-4df2-9c60-361cfd090f09",
   "metadata": {},
   "outputs": [
    {
     "data": {
      "text/plain": [
       "86.0"
      ]
     },
     "execution_count": 85,
     "metadata": {},
     "output_type": "execute_result"
    }
   ],
   "source": [
    "statistics.median(values)"
   ]
  },
  {
   "cell_type": "code",
   "execution_count": 86,
   "id": "15c3c950-f63e-4fb2-b1bc-e24a8a8ad94b",
   "metadata": {},
   "outputs": [
    {
     "data": {
      "text/plain": [
       "88"
      ]
     },
     "execution_count": 86,
     "metadata": {},
     "output_type": "execute_result"
    }
   ],
   "source": [
    "statistics.mode(values)"
   ]
  },
  {
   "cell_type": "code",
   "execution_count": 93,
   "id": "83b55e0b-9b85-4216-b8ed-b1cb3ee51336",
   "metadata": {},
   "outputs": [
    {
     "data": {
      "text/plain": [
       "6"
      ]
     },
     "execution_count": 93,
     "metadata": {},
     "output_type": "execute_result"
    }
   ],
   "source": [
    "count = len(values)\n",
    "count"
   ]
  },
  {
   "cell_type": "code",
   "execution_count": 92,
   "id": "612b7488-df81-4e14-94d9-5b3b3e80ee81",
   "metadata": {},
   "outputs": [
    {
     "data": {
      "text/plain": [
       "475"
      ]
     },
     "execution_count": 92,
     "metadata": {},
     "output_type": "execute_result"
    }
   ],
   "source": [
    "total = sum(values)\n",
    "total"
   ]
  },
  {
   "cell_type": "code",
   "execution_count": 95,
   "id": "d035dd86-73fe-41be-8045-1a6fe9b5c206",
   "metadata": {},
   "outputs": [
    {
     "data": {
      "text/plain": [
       "79.16666666666667"
      ]
     },
     "execution_count": 95,
     "metadata": {},
     "output_type": "execute_result"
    }
   ],
   "source": [
    "average = total / count\n",
    "average"
   ]
  },
  {
   "cell_type": "code",
   "execution_count": 103,
   "id": "a0d86961-e730-44ed-a9b4-7ba8dd3c71e8",
   "metadata": {},
   "outputs": [
    {
     "name": "stdout",
     "output_type": "stream",
     "text": [
      "Mean batting average equals 0.271. Median batting average equals 0.271. Most often occuring batting average equals 0.307.\n"
     ]
    }
   ],
   "source": [
    "# Batting averages of the 2015 Kansas City Royals\n",
    "Jarrod Sims\n",
    "\n",
    "batting = [.307, .297, .290, .284, .271, .260, .257, .255, .220]\n",
    "\n",
    "import statistics\n",
    "\n",
    "count = len(batting)\n",
    "total = sum(batting)\n",
    "mean = total / count\n",
    "median = statistics.median(batting)\n",
    "mode = statistics.mode(batting)\n",
    "\n",
    "print(f'Mean batting average equals {mean:.3f}. Median batting average equals {median}. Most often occuring batting average equals {mode}.')\n"
   ]
  }
 ],
 "metadata": {
  "kernelspec": {
   "display_name": "Python 3 (ipykernel)",
   "language": "python",
   "name": "python3"
  },
  "language_info": {
   "codemirror_mode": {
    "name": "ipython",
    "version": 3
   },
   "file_extension": ".py",
   "mimetype": "text/x-python",
   "name": "python",
   "nbconvert_exporter": "python",
   "pygments_lexer": "ipython3",
   "version": "3.9.12"
  }
 },
 "nbformat": 4,
 "nbformat_minor": 5
}
